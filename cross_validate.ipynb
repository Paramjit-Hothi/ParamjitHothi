{
 "cells": [
  {
   "cell_type": "code",
   "execution_count": 1,
   "id": "1d61c5fd-427a-4a24-af4d-979d63c738a2",
   "metadata": {},
   "outputs": [],
   "source": [
    "import numpy as np\n",
    "import pandas as pd\n",
    "import altair as alt\n",
    "from sklearn.linear_model import LogisticRegression\n",
    "from sklearn.model_selection import train_test_split\n",
    "from sklearn.model_selection import cross_validate\n",
    "from sklearn.model_selection import cross_val_score\n"
   ]
  },
  {
   "cell_type": "code",
   "execution_count": 2,
   "id": "4ce97ae4-4fb9-432b-9ce6-192a37ab47e8",
   "metadata": {},
   "outputs": [
    {
     "data": {
      "text/plain": [
       "(1042, 13)"
      ]
     },
     "execution_count": 2,
     "metadata": {},
     "output_type": "execute_result"
    }
   ],
   "source": [
    "cheese = pd.read_csv('data/cheese_data.csv')\n",
    "cheese.shape"
   ]
  },
  {
   "cell_type": "code",
   "execution_count": 3,
   "id": "ec9f31a4-b6cf-4c36-9a12-dd0f8149ef8e",
   "metadata": {},
   "outputs": [
    {
     "data": {
      "text/html": [
       "<div>\n",
       "<style scoped>\n",
       "    .dataframe tbody tr th:only-of-type {\n",
       "        vertical-align: middle;\n",
       "    }\n",
       "\n",
       "    .dataframe tbody tr th {\n",
       "        vertical-align: top;\n",
       "    }\n",
       "\n",
       "    .dataframe thead th {\n",
       "        text-align: right;\n",
       "    }\n",
       "</style>\n",
       "<table border=\"1\" class=\"dataframe\">\n",
       "  <thead>\n",
       "    <tr style=\"text-align: right;\">\n",
       "      <th></th>\n",
       "      <th>MoisturePercent</th>\n",
       "      <th>FatLevel</th>\n",
       "    </tr>\n",
       "  </thead>\n",
       "  <tbody>\n",
       "    <tr>\n",
       "      <th>0</th>\n",
       "      <td>47.0</td>\n",
       "      <td>lower fat</td>\n",
       "    </tr>\n",
       "    <tr>\n",
       "      <th>1</th>\n",
       "      <td>47.9</td>\n",
       "      <td>lower fat</td>\n",
       "    </tr>\n",
       "    <tr>\n",
       "      <th>2</th>\n",
       "      <td>54.0</td>\n",
       "      <td>lower fat</td>\n",
       "    </tr>\n",
       "    <tr>\n",
       "      <th>3</th>\n",
       "      <td>47.0</td>\n",
       "      <td>lower fat</td>\n",
       "    </tr>\n",
       "    <tr>\n",
       "      <th>4</th>\n",
       "      <td>49.4</td>\n",
       "      <td>lower fat</td>\n",
       "    </tr>\n",
       "    <tr>\n",
       "      <th>5</th>\n",
       "      <td>48.0</td>\n",
       "      <td>lower fat</td>\n",
       "    </tr>\n",
       "    <tr>\n",
       "      <th>6</th>\n",
       "      <td>52.0</td>\n",
       "      <td>lower fat</td>\n",
       "    </tr>\n",
       "    <tr>\n",
       "      <th>7</th>\n",
       "      <td>41.0</td>\n",
       "      <td>lower fat</td>\n",
       "    </tr>\n",
       "    <tr>\n",
       "      <th>8</th>\n",
       "      <td>50.0</td>\n",
       "      <td>lower fat</td>\n",
       "    </tr>\n",
       "    <tr>\n",
       "      <th>9</th>\n",
       "      <td>55.0</td>\n",
       "      <td>lower fat</td>\n",
       "    </tr>\n",
       "    <tr>\n",
       "      <th>10</th>\n",
       "      <td>57.0</td>\n",
       "      <td>lower fat</td>\n",
       "    </tr>\n",
       "    <tr>\n",
       "      <th>11</th>\n",
       "      <td>34.0</td>\n",
       "      <td>higher fat</td>\n",
       "    </tr>\n",
       "    <tr>\n",
       "      <th>12</th>\n",
       "      <td>34.0</td>\n",
       "      <td>higher fat</td>\n",
       "    </tr>\n",
       "    <tr>\n",
       "      <th>13</th>\n",
       "      <td>33.0</td>\n",
       "      <td>higher fat</td>\n",
       "    </tr>\n",
       "    <tr>\n",
       "      <th>14</th>\n",
       "      <td>43.0</td>\n",
       "      <td>higher fat</td>\n",
       "    </tr>\n",
       "  </tbody>\n",
       "</table>\n",
       "</div>"
      ],
      "text/plain": [
       "    MoisturePercent    FatLevel\n",
       "0              47.0   lower fat\n",
       "1              47.9   lower fat\n",
       "2              54.0   lower fat\n",
       "3              47.0   lower fat\n",
       "4              49.4   lower fat\n",
       "5              48.0   lower fat\n",
       "6              52.0   lower fat\n",
       "7              41.0   lower fat\n",
       "8              50.0   lower fat\n",
       "9              55.0   lower fat\n",
       "10             57.0   lower fat\n",
       "11             34.0  higher fat\n",
       "12             34.0  higher fat\n",
       "13             33.0  higher fat\n",
       "14             43.0  higher fat"
      ]
     },
     "execution_count": 3,
     "metadata": {},
     "output_type": "execute_result"
    }
   ],
   "source": [
    "cheese = cheese[[ 'MoisturePercent', 'FatLevel']]\n",
    "cheese.head(15)"
   ]
  },
  {
   "cell_type": "code",
   "execution_count": 4,
   "id": "9e52bad6-ad6b-48d7-a7be-c7fe7fe22b5a",
   "metadata": {},
   "outputs": [],
   "source": [
    "cheese['FatLevel'] = cheese['FatLevel'].replace('lower fat', 0)\n",
    "cheese['FatLevel'] = cheese['FatLevel'].replace('higher fat', 1)\n",
    "cheese.dropna(subset=['MoisturePercent'], inplace = True)\n"
   ]
  },
  {
   "cell_type": "markdown",
   "id": "b5f72ee6-016f-4d1c-bd18-f26097a0ad6b",
   "metadata": {},
   "source": [
    "### train_test_split method"
   ]
  },
  {
   "cell_type": "code",
   "execution_count": 5,
   "id": "065d793e-c6c3-4e28-8603-797ac3c978b0",
   "metadata": {},
   "outputs": [],
   "source": [
    "X = cheese.drop(columns = 'FatLevel')\n",
    "y = cheese[[ 'FatLevel']]\n",
    "# X_train, X_test, y_train, y_test = train_test_split(X, y, test_size=0.20, random_state = 123)\n",
    "X_train, X_test, y_train, y_test = train_test_split(X, y, test_size=0.20)\n"
   ]
  },
  {
   "cell_type": "code",
   "execution_count": 6,
   "id": "1ffca7ff-2d0a-49a9-bdaf-807a676e6b27",
   "metadata": {},
   "outputs": [
    {
     "data": {
      "text/html": [
       "<style>#sk-container-id-1 {color: black;background-color: white;}#sk-container-id-1 pre{padding: 0;}#sk-container-id-1 div.sk-toggleable {background-color: white;}#sk-container-id-1 label.sk-toggleable__label {cursor: pointer;display: block;width: 100%;margin-bottom: 0;padding: 0.3em;box-sizing: border-box;text-align: center;}#sk-container-id-1 label.sk-toggleable__label-arrow:before {content: \"▸\";float: left;margin-right: 0.25em;color: #696969;}#sk-container-id-1 label.sk-toggleable__label-arrow:hover:before {color: black;}#sk-container-id-1 div.sk-estimator:hover label.sk-toggleable__label-arrow:before {color: black;}#sk-container-id-1 div.sk-toggleable__content {max-height: 0;max-width: 0;overflow: hidden;text-align: left;background-color: #f0f8ff;}#sk-container-id-1 div.sk-toggleable__content pre {margin: 0.2em;color: black;border-radius: 0.25em;background-color: #f0f8ff;}#sk-container-id-1 input.sk-toggleable__control:checked~div.sk-toggleable__content {max-height: 200px;max-width: 100%;overflow: auto;}#sk-container-id-1 input.sk-toggleable__control:checked~label.sk-toggleable__label-arrow:before {content: \"▾\";}#sk-container-id-1 div.sk-estimator input.sk-toggleable__control:checked~label.sk-toggleable__label {background-color: #d4ebff;}#sk-container-id-1 div.sk-label input.sk-toggleable__control:checked~label.sk-toggleable__label {background-color: #d4ebff;}#sk-container-id-1 input.sk-hidden--visually {border: 0;clip: rect(1px 1px 1px 1px);clip: rect(1px, 1px, 1px, 1px);height: 1px;margin: -1px;overflow: hidden;padding: 0;position: absolute;width: 1px;}#sk-container-id-1 div.sk-estimator {font-family: monospace;background-color: #f0f8ff;border: 1px dotted black;border-radius: 0.25em;box-sizing: border-box;margin-bottom: 0.5em;}#sk-container-id-1 div.sk-estimator:hover {background-color: #d4ebff;}#sk-container-id-1 div.sk-parallel-item::after {content: \"\";width: 100%;border-bottom: 1px solid gray;flex-grow: 1;}#sk-container-id-1 div.sk-label:hover label.sk-toggleable__label {background-color: #d4ebff;}#sk-container-id-1 div.sk-serial::before {content: \"\";position: absolute;border-left: 1px solid gray;box-sizing: border-box;top: 0;bottom: 0;left: 50%;z-index: 0;}#sk-container-id-1 div.sk-serial {display: flex;flex-direction: column;align-items: center;background-color: white;padding-right: 0.2em;padding-left: 0.2em;position: relative;}#sk-container-id-1 div.sk-item {position: relative;z-index: 1;}#sk-container-id-1 div.sk-parallel {display: flex;align-items: stretch;justify-content: center;background-color: white;position: relative;}#sk-container-id-1 div.sk-item::before, #sk-container-id-1 div.sk-parallel-item::before {content: \"\";position: absolute;border-left: 1px solid gray;box-sizing: border-box;top: 0;bottom: 0;left: 50%;z-index: -1;}#sk-container-id-1 div.sk-parallel-item {display: flex;flex-direction: column;z-index: 1;position: relative;background-color: white;}#sk-container-id-1 div.sk-parallel-item:first-child::after {align-self: flex-end;width: 50%;}#sk-container-id-1 div.sk-parallel-item:last-child::after {align-self: flex-start;width: 50%;}#sk-container-id-1 div.sk-parallel-item:only-child::after {width: 0;}#sk-container-id-1 div.sk-dashed-wrapped {border: 1px dashed gray;margin: 0 0.4em 0.5em 0.4em;box-sizing: border-box;padding-bottom: 0.4em;background-color: white;}#sk-container-id-1 div.sk-label label {font-family: monospace;font-weight: bold;display: inline-block;line-height: 1.2em;}#sk-container-id-1 div.sk-label-container {text-align: center;}#sk-container-id-1 div.sk-container {/* jupyter's `normalize.less` sets `[hidden] { display: none; }` but bootstrap.min.css set `[hidden] { display: none !important; }` so we also need the `!important` here to be able to override the default hidden behavior on the sphinx rendered scikit-learn.org. See: https://github.com/scikit-learn/scikit-learn/issues/21755 */display: inline-block !important;position: relative;}#sk-container-id-1 div.sk-text-repr-fallback {display: none;}</style><div id=\"sk-container-id-1\" class=\"sk-top-container\"><div class=\"sk-text-repr-fallback\"><pre>LogisticRegression()</pre><b>In a Jupyter environment, please rerun this cell to show the HTML representation or trust the notebook. <br />On GitHub, the HTML representation is unable to render, please try loading this page with nbviewer.org.</b></div><div class=\"sk-container\" hidden><div class=\"sk-item\"><div class=\"sk-estimator sk-toggleable\"><input class=\"sk-toggleable__control sk-hidden--visually\" id=\"sk-estimator-id-1\" type=\"checkbox\" checked><label for=\"sk-estimator-id-1\" class=\"sk-toggleable__label sk-toggleable__label-arrow\">LogisticRegression</label><div class=\"sk-toggleable__content\"><pre>LogisticRegression()</pre></div></div></div></div></div>"
      ],
      "text/plain": [
       "LogisticRegression()"
      ]
     },
     "execution_count": 6,
     "metadata": {},
     "output_type": "execute_result"
    }
   ],
   "source": [
    "log_reg = LogisticRegression()\n",
    "log_reg.fit(X_train, y_train.values.ravel())\n"
   ]
  },
  {
   "cell_type": "code",
   "execution_count": 7,
   "id": "db4d80b9-bbac-4457-82eb-dafb1ad12356",
   "metadata": {},
   "outputs": [
    {
     "data": {
      "text/plain": [
       "0.8041362530413625"
      ]
     },
     "execution_count": 7,
     "metadata": {},
     "output_type": "execute_result"
    }
   ],
   "source": [
    "log_reg.score(X_train, y_train)\n"
   ]
  },
  {
   "cell_type": "code",
   "execution_count": 8,
   "id": "40cb3a7f-a94b-42aa-bdd5-439c6fb8fd8a",
   "metadata": {},
   "outputs": [
    {
     "data": {
      "text/plain": [
       "0.8106796116504854"
      ]
     },
     "execution_count": 8,
     "metadata": {},
     "output_type": "execute_result"
    }
   ],
   "source": [
    "log_reg.predict(X_test)\n",
    "log_reg.score(X_test, y_test)\n"
   ]
  },
  {
   "cell_type": "markdown",
   "id": "0bf80391-b843-49aa-8998-c776cb029755",
   "metadata": {},
   "source": [
    "### Manually Simulate Cross Validatation\n",
    "\n",
    "#### - Manually split cheese into five equal subsets"
   ]
  },
  {
   "cell_type": "code",
   "execution_count": 37,
   "id": "c8a85af3-a743-4445-8014-eb056c7ecf3b",
   "metadata": {},
   "outputs": [],
   "source": [
    "cheese_index = cheese.index.to_list()\n",
    "# np.random.seed(4)\n",
    "np.random.shuffle(cheese_index)\n",
    "cheese_index[:15]\n",
    "df_split = np.array_split(cheese_index, 5)\n"
   ]
  },
  {
   "cell_type": "markdown",
   "id": "87260bec-2880-4c84-8725-9f536cbe2cac",
   "metadata": {},
   "source": [
    "#### - For each subset, treat subset as the test and the remaining data as the train\n",
    "#### - Apply logisticRegression and save the train and predicted test scores"
   ]
  },
  {
   "cell_type": "code",
   "execution_count": 38,
   "id": "1e19381f-e444-4bfc-bbb6-8ff135ca4527",
   "metadata": {},
   "outputs": [],
   "source": [
    "log_reg = LogisticRegression()\n",
    "\n",
    "run = []\n",
    "train = []\n",
    "test = []\n",
    "for j in range(5):\n",
    "    run.append('run ' + str(j))\n",
    "    X_test = cheese[cheese.index.isin(df_split[j])].drop(columns = 'FatLevel')\n",
    "    y_test = cheese[cheese.index.isin(df_split[j])]['FatLevel']\n",
    "    X_train = cheese[~cheese.index.isin(df_split[j])].drop(columns = 'FatLevel')\n",
    "    y_train = cheese[~cheese.index.isin(df_split[j])]['FatLevel']\n",
    "    log_reg.fit(X_train, y_train)\n",
    "    train.append(log_reg.score(X_train, y_train))\n",
    "    log_reg.predict(X_test)\n",
    "    test.append(log_reg.score(X_test, y_test))\n"
   ]
  },
  {
   "cell_type": "markdown",
   "id": "03af07f2-5828-4d69-bea5-2e904d2c8449",
   "metadata": {},
   "source": [
    "#### - Calculate the mean train and predicted test scores"
   ]
  },
  {
   "cell_type": "code",
   "execution_count": 39,
   "id": "bf35d423-6c87-434b-bebb-870cbf442ca6",
   "metadata": {},
   "outputs": [
    {
     "data": {
      "text/plain": [
       "train_score    0.797417\n",
       "test_score     0.794753\n",
       "dtype: float64"
      ]
     },
     "execution_count": 39,
     "metadata": {},
     "output_type": "execute_result"
    }
   ],
   "source": [
    "results = {'run':run,\n",
    "           'train_score':train,\n",
    "           'test_score': test}\n",
    "results_df = pd.DataFrame(results)\n",
    "results_df[['train_score', 'test_score']].mean()\n"
   ]
  },
  {
   "cell_type": "markdown",
   "id": "8c926063-4fab-444b-8526-7d4f79115b71",
   "metadata": {},
   "source": [
    "### Using sklearn cross_validate()"
   ]
  },
  {
   "cell_type": "code",
   "execution_count": 40,
   "id": "94229653-1fff-46a7-9292-f50041185f14",
   "metadata": {},
   "outputs": [],
   "source": [
    "X = cheese[[ 'MoisturePercent']]\n",
    "y = cheese[[ 'FatLevel']]\n"
   ]
  },
  {
   "cell_type": "code",
   "execution_count": 41,
   "id": "ed5ecf31-27e0-4280-8f43-b98ce6ba1ff3",
   "metadata": {},
   "outputs": [],
   "source": [
    "scores = cross_validate(log_reg, X, y.values.ravel(), cv = 5, \n",
    "                        return_train_score = True)\n"
   ]
  },
  {
   "cell_type": "code",
   "execution_count": 42,
   "id": "8822db5e-9f30-48ab-9cd5-fc62fec9a416",
   "metadata": {},
   "outputs": [
    {
     "data": {
      "text/html": [
       "<div>\n",
       "<style scoped>\n",
       "    .dataframe tbody tr th:only-of-type {\n",
       "        vertical-align: middle;\n",
       "    }\n",
       "\n",
       "    .dataframe tbody tr th {\n",
       "        vertical-align: top;\n",
       "    }\n",
       "\n",
       "    .dataframe thead th {\n",
       "        text-align: right;\n",
       "    }\n",
       "</style>\n",
       "<table border=\"1\" class=\"dataframe\">\n",
       "  <thead>\n",
       "    <tr style=\"text-align: right;\">\n",
       "      <th></th>\n",
       "      <th>fit_time</th>\n",
       "      <th>score_time</th>\n",
       "      <th>test_score</th>\n",
       "      <th>train_score</th>\n",
       "    </tr>\n",
       "  </thead>\n",
       "  <tbody>\n",
       "    <tr>\n",
       "      <th>0</th>\n",
       "      <td>0.007232</td>\n",
       "      <td>0.001870</td>\n",
       "      <td>0.771845</td>\n",
       "      <td>0.760341</td>\n",
       "    </tr>\n",
       "    <tr>\n",
       "      <th>1</th>\n",
       "      <td>0.005428</td>\n",
       "      <td>0.001175</td>\n",
       "      <td>0.805825</td>\n",
       "      <td>0.805353</td>\n",
       "    </tr>\n",
       "    <tr>\n",
       "      <th>2</th>\n",
       "      <td>0.003090</td>\n",
       "      <td>0.000774</td>\n",
       "      <td>0.781553</td>\n",
       "      <td>0.811436</td>\n",
       "    </tr>\n",
       "    <tr>\n",
       "      <th>3</th>\n",
       "      <td>0.003118</td>\n",
       "      <td>0.001085</td>\n",
       "      <td>0.829268</td>\n",
       "      <td>0.799514</td>\n",
       "    </tr>\n",
       "    <tr>\n",
       "      <th>4</th>\n",
       "      <td>0.003845</td>\n",
       "      <td>0.001072</td>\n",
       "      <td>0.780488</td>\n",
       "      <td>0.811665</td>\n",
       "    </tr>\n",
       "  </tbody>\n",
       "</table>\n",
       "</div>"
      ],
      "text/plain": [
       "   fit_time  score_time  test_score  train_score\n",
       "0  0.007232    0.001870    0.771845     0.760341\n",
       "1  0.005428    0.001175    0.805825     0.805353\n",
       "2  0.003090    0.000774    0.781553     0.811436\n",
       "3  0.003118    0.001085    0.829268     0.799514\n",
       "4  0.003845    0.001072    0.780488     0.811665"
      ]
     },
     "execution_count": 42,
     "metadata": {},
     "output_type": "execute_result"
    }
   ],
   "source": [
    "scored_df = pd.DataFrame(scores)\n",
    "scored_df\n"
   ]
  },
  {
   "cell_type": "code",
   "execution_count": 43,
   "id": "71e88c90-db81-408f-9838-54d15844f689",
   "metadata": {},
   "outputs": [
    {
     "data": {
      "text/plain": [
       "fit_time       0.004543\n",
       "score_time     0.001195\n",
       "test_score     0.793796\n",
       "train_score    0.797662\n",
       "dtype: float64"
      ]
     },
     "execution_count": 43,
     "metadata": {},
     "output_type": "execute_result"
    }
   ],
   "source": [
    "scored_df.mean()\n"
   ]
  },
  {
   "cell_type": "markdown",
   "id": "6b9262b4-aed9-4cec-b28e-a837e307b83b",
   "metadata": {},
   "source": [
    "#####\n",
    "**Note:** cross_validate and the manual methods will not match exactly  as we cannot control the random method used by cross_validate to create the different subset"
   ]
  },
  {
   "cell_type": "markdown",
   "id": "b72bc6bb-37d5-47c6-a57e-071326555ac5",
   "metadata": {},
   "source": [
    "###\n",
    "### Example to illustrate cross_val_scores\n",
    "\n",
    "#### cross_val_scores are the test_scores from cross_validate"
   ]
  },
  {
   "cell_type": "code",
   "execution_count": 16,
   "id": "3d66d908-9896-48c7-9eac-f573339d0568",
   "metadata": {},
   "outputs": [],
   "source": [
    "cross_val_scores = cross_val_score(log_reg, X, y.values.ravel(), cv = 5)\n"
   ]
  },
  {
   "cell_type": "code",
   "execution_count": 17,
   "id": "b5af06f9-bb1f-4fb4-b1ce-e25b65545809",
   "metadata": {},
   "outputs": [
    {
     "data": {
      "text/plain": [
       "[0.7718446601941747,\n",
       " 0.8058252427184466,\n",
       " 0.7815533980582524,\n",
       " 0.8292682926829268,\n",
       " 0.7804878048780488]"
      ]
     },
     "execution_count": 17,
     "metadata": {},
     "output_type": "execute_result"
    }
   ],
   "source": [
    "list(scored_df['test_score'])\n"
   ]
  },
  {
   "cell_type": "code",
   "execution_count": 18,
   "id": "015fbbad-9f23-4c5e-b6c9-8977b6ba575b",
   "metadata": {},
   "outputs": [
    {
     "data": {
      "text/plain": [
       "[0.7718446601941747,\n",
       " 0.8058252427184466,\n",
       " 0.7815533980582524,\n",
       " 0.8292682926829268,\n",
       " 0.7804878048780488]"
      ]
     },
     "execution_count": 18,
     "metadata": {},
     "output_type": "execute_result"
    }
   ],
   "source": [
    "list(cross_val_scores)\n"
   ]
  },
  {
   "cell_type": "code",
   "execution_count": 19,
   "id": "aa64b6bf-5451-4b0f-9cc6-e17469517e7e",
   "metadata": {},
   "outputs": [
    {
     "data": {
      "text/plain": [
       "True"
      ]
     },
     "execution_count": 19,
     "metadata": {},
     "output_type": "execute_result"
    }
   ],
   "source": [
    "list(scored_df['test_score']) == list(cross_val_scores)\n"
   ]
  },
  {
   "cell_type": "code",
   "execution_count": null,
   "id": "afb413bb-5a26-497f-8ccf-8e7e9178d4cb",
   "metadata": {},
   "outputs": [],
   "source": []
  },
  {
   "cell_type": "code",
   "execution_count": null,
   "id": "f54b5639-7dd8-47c7-a93b-6879a740d36f",
   "metadata": {},
   "outputs": [],
   "source": []
  },
  {
   "cell_type": "code",
   "execution_count": null,
   "id": "3bc77657-27b6-4ac6-a913-8358a6d1c660",
   "metadata": {},
   "outputs": [],
   "source": []
  }
 ],
 "metadata": {
  "kernelspec": {
   "display_name": "Python 3 (ipykernel)",
   "language": "python",
   "name": "python3"
  },
  "language_info": {
   "codemirror_mode": {
    "name": "ipython",
    "version": 3
   },
   "file_extension": ".py",
   "mimetype": "text/x-python",
   "name": "python",
   "nbconvert_exporter": "python",
   "pygments_lexer": "ipython3",
   "version": "3.9.16"
  }
 },
 "nbformat": 4,
 "nbformat_minor": 5
}
